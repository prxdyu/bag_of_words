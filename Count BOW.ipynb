{
 "cells": [
  {
   "cell_type": "code",
   "execution_count": 52,
   "id": "03158e22",
   "metadata": {},
   "outputs": [],
   "source": [
    "import numpy as np\n",
    "from collections import Counter"
   ]
  },
  {
   "cell_type": "code",
   "execution_count": 53,
   "id": "8577b3f7",
   "metadata": {},
   "outputs": [],
   "source": [
    "def fit(dataset):\n",
    "    unique_words=set()\n",
    "    vocabulary=dict()\n",
    "    if type(dataset)==type(list()):\n",
    "        # our dataset should be a list of lists\n",
    "        for row in dataset:\n",
    "                words=row.split(\" \")\n",
    "                for word in words:\n",
    "                    if len(word)>0:\n",
    "                        unique_words.add(word)\n",
    "    for i,j in enumerate(unique_words):\n",
    "        vocabulary[j]=i\n",
    "        \n",
    "    return vocabulary"
   ]
  },
  {
   "cell_type": "code",
   "execution_count": 58,
   "id": "2040c682",
   "metadata": {},
   "outputs": [],
   "source": [
    "def transform(corpus,vocab):\n",
    "    # creating a numpy array which we will return in the end\n",
    "    n=len(corpus)\n",
    "    m=len(vocab.values())\n",
    "    matrix=np.zeros([n,m],int)\n",
    "    for text in corpus:\n",
    "            word_count_text=dict(Counter(text.split()))\n",
    "            index_text=corpus.index(text)\n",
    "            for word in text.split():\n",
    "                index_of_word=text.split().index(word)\n",
    "                for i in range(m):\n",
    "                    i_word=list(vocab.keys())[i]\n",
    "                    if word==i_word:\n",
    "                        matrix[index_text][i]=word_count_text[word]\n",
    "                        \n",
    "                   \n",
    "    return matrix"
   ]
  },
  {
   "cell_type": "markdown",
   "id": "25b71109",
   "metadata": {},
   "source": [
    "### Hi i have tried to replicate the Sklearn's CountVectorizer and implement it on my own using numpy"
   ]
  },
  {
   "cell_type": "markdown",
   "id": "2f7752dd",
   "metadata": {},
   "source": [
    "### fit(data) \n",
    "#### Description\n",
    "\n",
    "finds unique words in the given corpus and returns a vocabulary of unique words of                                                          dictionary type, data must be in the form of a list\n",
    "\n",
    "### transform(data,vocabulary) \n",
    "#### Description\n",
    "returns a CountVectorized version of numpy array of (nxm) where n is the                              number of sentences in your corpus and m is the total number of unique                                words in your corpus, here data is your whole corpus and vocabulary is the unique words in your corpus"
   ]
  },
  {
   "cell_type": "code",
   "execution_count": null,
   "id": "663c18a2",
   "metadata": {},
   "outputs": [],
   "source": []
  }
 ],
 "metadata": {
  "kernelspec": {
   "display_name": "Python 3 (ipykernel)",
   "language": "python",
   "name": "python3"
  },
  "language_info": {
   "codemirror_mode": {
    "name": "ipython",
    "version": 3
   },
   "file_extension": ".py",
   "mimetype": "text/x-python",
   "name": "python",
   "nbconvert_exporter": "python",
   "pygments_lexer": "ipython3",
   "version": "3.11.2"
  }
 },
 "nbformat": 4,
 "nbformat_minor": 5
}
